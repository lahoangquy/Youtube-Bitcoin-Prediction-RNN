{
  "nbformat": 4,
  "nbformat_minor": 0,
  "metadata": {
    "colab": {
      "name": "Bitcoin prediction [2022].ipynb",
      "provenance": []
    },
    "kernelspec": {
      "name": "python3",
      "display_name": "Python 3"
    },
    "language_info": {
      "name": "python"
    }
  },
  "cells": [
    {
      "cell_type": "code",
      "execution_count": 1,
      "metadata": {
        "colab": {
          "base_uri": "https://localhost:8080/"
        },
        "id": "Y_dEutJxIa14",
        "outputId": "bb11db09-c5d5-401a-b441-0bcff7c8b9d6"
      },
      "outputs": [
        {
          "output_type": "stream",
          "name": "stdout",
          "text": [
            "Mounted at /content/drive\n"
          ]
        }
      ],
      "source": [
        "from google.colab import drive\n",
        "drive.mount('/content/drive')"
      ]
    },
    {
      "cell_type": "code",
      "source": [
        "%cd /content/drive/My Drive/Colab Notebooks"
      ],
      "metadata": {
        "colab": {
          "base_uri": "https://localhost:8080/"
        },
        "id": "xMUtl8_rIgPz",
        "outputId": "4ce4f3f5-9369-4627-9c30-b2e2754de8d0"
      },
      "execution_count": 2,
      "outputs": [
        {
          "output_type": "stream",
          "name": "stdout",
          "text": [
            "/content/drive/My Drive/Colab Notebooks\n"
          ]
        }
      ]
    },
    {
      "cell_type": "code",
      "source": [
        "import numpy as np\n",
        "import pandas as pd\n",
        "from matplotlib import pyplot as plt\n",
        "from keras.models import Sequential\n",
        "from keras.layers import Dense\n",
        "from keras.layers import LSTM\n",
        "from sklearn.preprocessing import MinMaxScaler"
      ],
      "metadata": {
        "id": "oArYEw83Mvmi"
      },
      "execution_count": 3,
      "outputs": []
    },
    {
      "cell_type": "markdown",
      "source": [
        "The general parameters for our task are the future horizon of our prediction and the hyperparameter for the network"
      ],
      "metadata": {
        "id": "hg_SFF-YNR45"
      }
    },
    {
      "cell_type": "code",
      "source": [
        "prediction_days = 30\n",
        "nof_units = 4"
      ],
      "metadata": {
        "id": "BCRyABhUNZ07"
      },
      "execution_count": 4,
      "outputs": []
    },
    {
      "cell_type": "markdown",
      "source": [
        "We will encapsulate our model creation step in a function. It will accept a single parameter, units, which is the dimension of the innter cells in LSTM"
      ],
      "metadata": {
        "id": "GampQ0c_Ng4N"
      }
    },
    {
      "cell_type": "code",
      "source": [
        "def create_model(nunits):\n",
        "\n",
        "    # Initialising the RNN\n",
        "    regressor = Sequential()\n",
        "\n",
        "    # Adding the input layer and the LSTM layer\n",
        "    regressor.add(LSTM(units = nunits, activation = 'sigmoid', input_shape = (None, 1)))\n",
        "\n",
        "    # Adding the output layer\n",
        "    regressor.add(Dense(units = 1))\n",
        "\n",
        "    # Compiling the RNN\n",
        "    regressor.compile(optimizer = 'adam', loss = 'mean_squared_error')\n",
        "    \n",
        "    return regressor"
      ],
      "metadata": {
        "id": "Fa6DKfSnNfHz"
      },
      "execution_count": 5,
      "outputs": []
    }
  ]
}